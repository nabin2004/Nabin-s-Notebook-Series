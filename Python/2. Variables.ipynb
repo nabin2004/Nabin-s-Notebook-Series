{
 "cells": [
  {
   "cell_type": "markdown",
   "id": "63a7101d",
   "metadata": {},
   "source": [
    "<h1 align='center'><b>Variables</b></h1>"
   ]
  },
  {
   "cell_type": "markdown",
   "id": "fd86a18f",
   "metadata": {},
   "source": [
    "We recently printed Hello World message using variable. Thats why I think this is the best time to introduce the concept of variable :) Variables are containers that stores data. The data can be anything from numbers, strings(text), floating point value to decimal, Boolean value(True, False) and others. "
   ]
  },
  {
   "cell_type": "markdown",
   "id": "b7cdd379",
   "metadata": {},
   "source": [
    "### Here are some data types in Python:"
   ]
  },
  {
   "cell_type": "markdown",
   "id": "88ffab02",
   "metadata": {},
   "source": [
    "#### Primitive Data Types\n",
    "\n",
    "- Integer (`int`)\n",
    "- Floating point value (`float`)\n",
    "- String (`str`)\n",
    "- Boolean (`True`, `False`)\n"
   ]
  },
  {
   "cell_type": "markdown",
   "id": "819f6cf3",
   "metadata": {},
   "source": [
    "```Python\n",
    "x = 2     # integer value\n",
    "x = 2.1   # floating point value\n",
    "name = 'nabin' # string value\n",
    "generous = True # Boolean value with true\n",
    "evil = False # Boolean value with False\n",
    "```"
   ]
  },
  {
   "cell_type": "markdown",
   "id": "40527e99",
   "metadata": {},
   "source": [
    "You have to take closer look at that boolean data type Starts with Capital letter like `True` not `true`. While assigning if our data is clean form. By clean I mean that appropriate structure. We might not need data types declaration but when take input, we requires to use data type for parsing data type in required format. I'll like to share little snippet from future lesson about taking input also using data type. Look here two conditions."
   ]
  },
  {
   "cell_type": "code",
   "execution_count": 2,
   "id": "54b5de57",
   "metadata": {},
   "outputs": [
    {
     "name": "stdout",
     "output_type": "stream",
     "text": [
      "Enter your name: Nabin\n",
      "Nabin\n"
     ]
    }
   ],
   "source": [
    "name = input(\"Enter your name: \")\n",
    "print(name)"
   ]
  },
  {
   "cell_type": "code",
   "execution_count": 3,
   "id": "db7aba20",
   "metadata": {},
   "outputs": [
    {
     "name": "stdout",
     "output_type": "stream",
     "text": [
      "Enter your name: 19\n",
      "19\n"
     ]
    }
   ],
   "source": [
    "name = int(input(\"Enter your name: \"))\n",
    "print(name)"
   ]
  },
  {
   "cell_type": "markdown",
   "id": "fbeec619",
   "metadata": {},
   "source": [
    "Spend sometime thinking why we used `int` above. Also we will see this topic in another lesson. "
   ]
  },
  {
   "cell_type": "markdown",
   "id": "33148612",
   "metadata": {},
   "source": [
    "### Rules for declaring name of Variable"
   ]
  },
  {
   "cell_type": "code",
   "execution_count": null,
   "id": "582fe705",
   "metadata": {},
   "outputs": [],
   "source": []
  },
  {
   "cell_type": "markdown",
   "id": "5f929e15",
   "metadata": {},
   "source": [
    "## Strings and Ops"
   ]
  },
  {
   "cell_type": "code",
   "execution_count": null,
   "id": "60611fb3",
   "metadata": {},
   "outputs": [],
   "source": []
  },
  {
   "cell_type": "code",
   "execution_count": 4,
   "id": "15d501fe",
   "metadata": {},
   "outputs": [
    {
     "name": "stdout",
     "output_type": "stream",
     "text": [
      "The Zen of Python, by Tim Peters\n",
      "\n",
      "Beautiful is better than ugly.\n",
      "Explicit is better than implicit.\n",
      "Simple is better than complex.\n",
      "Complex is better than complicated.\n",
      "Flat is better than nested.\n",
      "Sparse is better than dense.\n",
      "Readability counts.\n",
      "Special cases aren't special enough to break the rules.\n",
      "Although practicality beats purity.\n",
      "Errors should never pass silently.\n",
      "Unless explicitly silenced.\n",
      "In the face of ambiguity, refuse the temptation to guess.\n",
      "There should be one-- and preferably only one --obvious way to do it.\n",
      "Although that way may not be obvious at first unless you're Dutch.\n",
      "Now is better than never.\n",
      "Although never is often better than *right* now.\n",
      "If the implementation is hard to explain, it's a bad idea.\n",
      "If the implementation is easy to explain, it may be a good idea.\n",
      "Namespaces are one honking great idea -- let's do more of those!\n"
     ]
    }
   ],
   "source": [
    "import this"
   ]
  },
  {
   "cell_type": "code",
   "execution_count": null,
   "id": "6cb536df",
   "metadata": {},
   "outputs": [],
   "source": []
  }
 ],
 "metadata": {
  "kernelspec": {
   "display_name": "Python 3 (ipykernel)",
   "language": "python",
   "name": "python3"
  },
  "language_info": {
   "codemirror_mode": {
    "name": "ipython",
    "version": 3
   },
   "file_extension": ".py",
   "mimetype": "text/x-python",
   "name": "python",
   "nbconvert_exporter": "python",
   "pygments_lexer": "ipython3",
   "version": "3.12.1"
  }
 },
 "nbformat": 4,
 "nbformat_minor": 5
}
