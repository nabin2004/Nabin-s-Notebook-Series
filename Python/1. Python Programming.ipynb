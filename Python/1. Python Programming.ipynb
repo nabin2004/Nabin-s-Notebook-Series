{
 "cells": [
  {
   "cell_type": "markdown",
   "id": "8fe8e680",
   "metadata": {},
   "source": [
    "<h1 align='center'><b>Python Programming</b></h1>"
   ]
  },
  {
   "cell_type": "markdown",
   "id": "2276e78a",
   "metadata": {},
   "source": [
    "For guide on, `How to install Python you can visit to this page` and install Python and You can using any code editor of your choice.\n",
    "For installing VS code, you can follow this link:\\\n",
    "For installing Jupyter notebook you can follow this link:\\"
   ]
  },
  {
   "cell_type": "markdown",
   "id": "48c72968",
   "metadata": {},
   "source": [
    "IMAGINE THAT YOU ARE PROGRAMMER. When you write code you want computers to do your work as instructed. And That instruction to computers are given using programming language. There are lots of programming languages. Just like lots of tools to cut trees but It totally depends on you or your projects to which tools to choose. You can choose blade to trim beard but not to trees. You can choose axe to cut trees but may be not suitable for cutting beard. Similliarly, There are range of Programming language that you can learn."
   ]
  },
  {
   "cell_type": "markdown",
   "id": "19ab1c0a",
   "metadata": {},
   "source": [
    "Among those options, I'll be teaching you Python language. Well, Python is nice language. Especially, I love how we can write code easily following best practices. But in some cases, Python is considered bad choice, still today also. But if you look there reason, you'll find out that most of alligations that are put on Python are for Python 2 which was predecessor before python 3 and remaining alligations are true :)"
   ]
  },
  {
   "cell_type": "markdown",
   "id": "54de0aae",
   "metadata": {},
   "source": [
    "Python is a interpreted programming language. What does that mean 'Interpreted'?\\\n",
    "Well, Every programming language has its own Architecture that impacts its speed, efficiency, even syntax sometime. So, If you look at Python. Python has interpreter that converts the code that you have written to C language. And C language is understandable by your computer, which later compiles in machine level langauge 1s and 0s. If you look at this lines closely, You'll notice that Python converts/interprets to C programming language. By the way, that's why Python is called interpreted language. Also, if you reliaze, you'll notice that if I write programming language on C language. It'll far better and what's use of Python then. Well, This question was answered by `Guido Van Russom`, Creator of Python that if programming language are our human language then C language requires focus of How are vocals while speaking that language are and Python focuses on what words are we using. You can think vocals as low level coding and words as abstraction.  "
   ]
  },
  {
   "cell_type": "markdown",
   "id": "cad68cd1",
   "metadata": {},
   "source": [
    "My take on, why should Python should be your first programming language?\n",
    "1. Beginner friendly\n",
    "2. Helps you learn procedural language easily\n",
    "3. Also it helps you to get perspective of what exactly is OOP and why it requires.\n",
    "4. You can build really cool things with Python being productive and at ease.\n",
    "5. You can do lots of Artificial Intelligence and Machine Learning things with Python due its huge supports due to Python Packages.\n"
   ]
  },
  {
   "cell_type": "markdown",
   "id": "137d7284",
   "metadata": {},
   "source": [
    "## Let's Start Learning"
   ]
  },
  {
   "cell_type": "markdown",
   "id": "0c79f929",
   "metadata": {},
   "source": [
    "Imagine, being `men of culture` what would you like to make your code do?\\\n",
    "Simple, Make your code to Say, `Hello World`."
   ]
  },
  {
   "cell_type": "markdown",
   "id": "6ff71f63",
   "metadata": {},
   "source": [
    "## THINK WITH ME"
   ]
  },
  {
   "cell_type": "markdown",
   "id": "611c7568",
   "metadata": {},
   "source": [
    "1. First, you store your message on something right. Wait, a moment and try to brainstorm. Don't you feel you'll need something like bucket or container to store message. But, how can we use bucket like things to store."
   ]
  },
  {
   "cell_type": "code",
   "execution_count": 2,
   "id": "2b866bf6",
   "metadata": {},
   "outputs": [],
   "source": [
    "message = 'Hello World' # Yes this stores our message"
   ]
  },
  {
   "cell_type": "markdown",
   "id": "a0959223",
   "metadata": {},
   "source": [
    "Look, closely\\\n",
    "How we stored message inside of single inverted comma. You can also use double inverted comma but it should follow rule of it starts with and ends with same type of inverted comman. If it starts with single inverted comma, It should also ends with single inverted comma. and Also same for double inverted comma."
   ]
  },
  {
   "cell_type": "markdown",
   "id": "0f2ef7c1",
   "metadata": {},
   "source": [
    "2. Our focus will be , How to show or print that message. For that let me introduce a keyword in Python."
   ]
  },
  {
   "cell_type": "markdown",
   "id": "3d6c69da",
   "metadata": {},
   "source": [
    "```Python\n",
    "print( )\n",
    "```"
   ]
  },
  {
   "cell_type": "markdown",
   "id": "52e4e378",
   "metadata": {},
   "source": [
    "`print( )` is used for printing instructions or output in the terminal."
   ]
  },
  {
   "cell_type": "code",
   "execution_count": 4,
   "id": "a76127fe",
   "metadata": {},
   "outputs": [
    {
     "name": "stdout",
     "output_type": "stream",
     "text": [
      "Hello World\n"
     ]
    }
   ],
   "source": [
    "print(message)"
   ]
  },
  {
   "cell_type": "markdown",
   "id": "b1dd4c91",
   "metadata": {},
   "source": [
    "Voila, we just wrote a code that prints message of hello world.\\\n",
    "Just, try to learn here that how we stored our `'Hello World'` message in message variable and now printed it using`print( )`"
   ]
  },
  {
   "cell_type": "markdown",
   "id": "de5f572d",
   "metadata": {},
   "source": [
    "# Also\n",
    "Instead of saving message, we can also do this,"
   ]
  },
  {
   "cell_type": "code",
   "execution_count": 6,
   "id": "100cd4b5",
   "metadata": {},
   "outputs": [
    {
     "name": "stdout",
     "output_type": "stream",
     "text": [
      "Hello World\n"
     ]
    }
   ],
   "source": [
    "print('Hello World') # Closed inside single inverted comma"
   ]
  },
  {
   "cell_type": "code",
   "execution_count": 7,
   "id": "549d477e",
   "metadata": {},
   "outputs": [
    {
     "name": "stdout",
     "output_type": "stream",
     "text": [
      "Hello World\n"
     ]
    }
   ],
   "source": [
    "print(\"Hello World\") # Closed inside double inverted comma"
   ]
  },
  {
   "cell_type": "markdown",
   "id": "7cdf9397",
   "metadata": {},
   "source": [
    "# End"
   ]
  },
  {
   "cell_type": "code",
   "execution_count": null,
   "id": "f3a9766b",
   "metadata": {},
   "outputs": [],
   "source": []
  }
 ],
 "metadata": {
  "kernelspec": {
   "display_name": "Python 3 (ipykernel)",
   "language": "python",
   "name": "python3"
  },
  "language_info": {
   "codemirror_mode": {
    "name": "ipython",
    "version": 3
   },
   "file_extension": ".py",
   "mimetype": "text/x-python",
   "name": "python",
   "nbconvert_exporter": "python",
   "pygments_lexer": "ipython3",
   "version": "3.12.1"
  }
 },
 "nbformat": 4,
 "nbformat_minor": 5
}
