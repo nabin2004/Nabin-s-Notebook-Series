{
 "cells": [
  {
   "cell_type": "markdown",
   "id": "1a06ff92",
   "metadata": {},
   "source": [
    "While doing computations we need to do several calculations or computation. For doing such operations we have a standard set of mathematical operators. That we will see in this lecture."
   ]
  },
  {
   "cell_type": "markdown",
   "id": "4d3e6301",
   "metadata": {},
   "source": [
    "## Arithmetic Operators\n",
    "\n",
    "| Operation             | Description                            |\n",
    "|-----------------------|----------------------------------------|\n",
    "| `x + y`               | Addition                               |\n",
    "| `x - y`               | Subtraction                            |\n",
    "| `x * y`               | Multiplication                         |\n",
    "| `x / y`               | Division                               |\n",
    "| `x // y`              | Truncating division                    |\n",
    "| `x ** y`              | Power (x to the y power)               |\n",
    "| `x % y`               | Modulo (x mod y). Remainder.           |\n",
    "| `–x`                  | Unary minus                            |\n",
    "| `+x`                  | Unary plus                             |\n"
   ]
  },
  {
   "cell_type": "markdown",
   "id": "8732937a",
   "metadata": {},
   "source": [
    "## Common Mathematic Functions\n",
    "\n",
    "| Function            | Description                                         |\n",
    "|---------------------|-----------------------------------------------------|\n",
    "| `abs(x)`            | Absolute value                                      |\n",
    "| `divmod(x, y)`      | Returns `(x // y, x % y)`                           |\n",
    "| `pow(x, y [,mod])`  | Returns `(x ** y) % mod`                            |\n",
    "| `round(x, [n])`     | Rounds to the nearest multiple of 10 to the nth power|\n"
   ]
  },
  {
   "cell_type": "code",
   "execution_count": null,
   "id": "60b574f3",
   "metadata": {},
   "outputs": [],
   "source": []
  }
 ],
 "metadata": {
  "kernelspec": {
   "display_name": "Python 3 (ipykernel)",
   "language": "python",
   "name": "python3"
  },
  "language_info": {
   "codemirror_mode": {
    "name": "ipython",
    "version": 3
   },
   "file_extension": ".py",
   "mimetype": "text/x-python",
   "name": "python",
   "nbconvert_exporter": "python",
   "pygments_lexer": "ipython3",
   "version": "3.12.1"
  }
 },
 "nbformat": 4,
 "nbformat_minor": 5
}
