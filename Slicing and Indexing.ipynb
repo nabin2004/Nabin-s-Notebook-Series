{
 "cells": [
  {
   "cell_type": "code",
   "execution_count": 1,
   "id": "517589bf",
   "metadata": {},
   "outputs": [],
   "source": [
    "import pandas as pd"
   ]
  },
  {
   "cell_type": "markdown",
   "id": "b74f1968",
   "metadata": {},
   "source": [
    "# Indexes setup\n",
    "1. `df.set_index(\"name\")` # Setting a columns as the index\n",
    "2. `df.reset_index()` # Removing an index\n",
    "3. `df.reset_index(drop=True)` # Dropping an index"
   ]
  },
  {
   "cell_type": "markdown",
   "id": "452ba058",
   "metadata": {},
   "source": [
    "### Indexes make subsetting simpler"
   ]
  },
  {
   "cell_type": "markdown",
   "id": "19ad5959",
   "metadata": {},
   "source": [
    "### Subsetting on duplicated index values"
   ]
  },
  {
   "cell_type": "markdown",
   "id": "b347c5cc",
   "metadata": {},
   "source": [
    "### Index values don't need to be unique"
   ]
  },
  {
   "cell_type": "markdown",
   "id": "6b766766",
   "metadata": {},
   "source": [
    "### Multi-level indexes a.k.a. hierarchical indexes"
   ]
  },
  {
   "cell_type": "markdown",
   "id": "747fffbe",
   "metadata": {},
   "source": [
    "# Silicing and Subsetting with `.loc` and `.iloc`"
   ]
  },
  {
   "cell_type": "code",
   "execution_count": null,
   "id": "617524b7",
   "metadata": {},
   "outputs": [],
   "source": []
  }
 ],
 "metadata": {
  "kernelspec": {
   "display_name": "Python 3 (ipykernel)",
   "language": "python",
   "name": "python3"
  },
  "language_info": {
   "codemirror_mode": {
    "name": "ipython",
    "version": 3
   },
   "file_extension": ".py",
   "mimetype": "text/x-python",
   "name": "python",
   "nbconvert_exporter": "python",
   "pygments_lexer": "ipython3",
   "version": "3.12.1"
  }
 },
 "nbformat": 4,
 "nbformat_minor": 5
}
