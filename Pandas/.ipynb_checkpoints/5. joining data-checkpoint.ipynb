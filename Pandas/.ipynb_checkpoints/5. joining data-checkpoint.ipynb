{
 "cells": [
  {
   "cell_type": "code",
   "execution_count": 1,
   "id": "f9a5dcf6",
   "metadata": {},
   "outputs": [],
   "source": [
    "import pandas as pd"
   ]
  },
  {
   "cell_type": "markdown",
   "id": "4852ea11",
   "metadata": {},
   "source": [
    "<h1 align='center'> Dataframe Merge and Join</h1>"
   ]
  },
  {
   "cell_type": "markdown",
   "id": "0a487c2e",
   "metadata": {},
   "source": [
    "### 1. pandas.DataFrame.join\n",
    "```Python\n",
    "DataFrame.join(other, on=None, how='left', lsuffix='', rsuffix='', sort=False, validate=None)\n",
    "```"
   ]
  },
  {
   "cell_type": "markdown",
   "id": "021e1742",
   "metadata": {},
   "source": [
    "##### Type of merge or join to be performed. (how) default: inner\n",
    "\n",
    "1. `left`: use only keys from left frame, similar to a SQL left outer join; preserve key order.\n",
    "2. `right`: use only keys from right frame, similar to a SQL right outer join; preserve key order.\n",
    "3. `outer`: use union of keys from both frames, similar to a SQL full outer join; sort keys lexicographically.\n",
    "4. `inner`: use intersection of keys from both frames, similar to a SQL inner join; preserve the order of the left keys.\n",
    "5. `cross`: creates the cartesian product from both frames, preserves the order of the left keys."
   ]
  },
  {
   "cell_type": "markdown",
   "id": "b6ebeda2",
   "metadata": {},
   "source": [
    "### `validatestr, optional`\n",
    "\n",
    "If specified, checks if merge is of specified type.\n",
    "\n",
    "- **\"one_to_one\" or \"1:1\"**: Check if merge keys are unique in both left and right datasets.\n",
    "\n",
    "- **\"one_to_many\" or \"1:m\"**: Check if merge keys are unique in the left dataset.\n",
    "\n",
    "- **\"many_to_one\" or \"m:1\"**: Check if merge keys are unique in the right dataset.\n",
    "\n",
    "- **\"many_to_many\" or \"m:m\"**: Allowed, but does not result in checks."
   ]
  },
  {
   "cell_type": "markdown",
   "id": "2ca0a425",
   "metadata": {},
   "source": [
    "### 2. pandas.DataFrame.merge\n",
    "```Python\n",
    "DataFrame.merge(right, how='inner', on=None, left_on=None, right_on=None, left_index=False, right_index=False, sort=False, suffixes=('_x', '_y'), copy=None, indicator=False, validate=None)\n",
    "```"
   ]
  },
  {
   "cell_type": "markdown",
   "id": "ac3f572f",
   "metadata": {},
   "source": [
    "----"
   ]
  },
  {
   "cell_type": "markdown",
   "id": "a964f67a",
   "metadata": {},
   "source": [
    "In the course, I'll be using tables and dataframe as synonomous and merging as joining. Talking about joins, there are five joins in Pandas and those are:"
   ]
  },
  {
   "cell_type": "markdown",
   "id": "fdbfd56c",
   "metadata": {},
   "source": [
    "1. Inner Join\n",
    "2. Left Outer join\n",
    "3. Right Outer join\n",
    "4. Outer Join or Full outer join\n",
    "5. Index Join"
   ]
  },
  {
   "cell_type": "markdown",
   "id": "aabe903f",
   "metadata": {},
   "source": [
    "In pandas, to perform various types of joins between DataFrames, you typically use the merge() function. The merge() function supports several types of joins including inner join, left join, right join, and outer join. Here's a brief overview of each:"
   ]
  },
  {
   "cell_type": "markdown",
   "id": "e986fc42",
   "metadata": {},
   "source": [
    "1. **Inner Join (`inner`)**: Retains only the rows where the merge key exists in both DataFrames.\n",
    "   \n",
    "   ```python\n",
    "   inner_join_df = pd.merge(df1, df2, on='key', how='inner')\n",
    "   ```\n",
    "\n",
    "2. **Left Join (`left`)**: Retains all rows from the left DataFrame and includes matching rows from the right DataFrame.\n",
    "\n",
    "   ```python\n",
    "   left_join_df = pd.merge(df1, df2, on='key', how='left')\n",
    "   ```\n",
    "\n",
    "3. **Right Join (`right`)**: Retains all rows from the right DataFrame and includes matching rows from the left DataFrame.\n",
    "   \n",
    "   ```python\n",
    "   right_join_df = pd.merge(df1, df2, on='key', how='right')\n",
    "   ```\n",
    "\n",
    "4. **Outer Join (`outer`)**: Retains all rows from both DataFrames and fills in missing values with NaNs where data is not present.\n",
    "   \n",
    "   ```python\n",
    "   outer_join_df = pd.merge(df1, df2, on='key', how='outer')\n",
    "   ```"
   ]
  },
  {
   "cell_type": "markdown",
   "id": "af097d29",
   "metadata": {},
   "source": [
    "<h1 align='center'>Different Between Merge and Joins in Pandas</h1>"
   ]
  },
  {
   "cell_type": "markdown",
   "id": "ded54dc5",
   "metadata": {},
   "source": [
    "1. join has limited feature while merge has many other feature\n",
    "2. Both join and merge can be used to combines two dataframes but the join method combines two dataframes on the basis of their indexes whereas the merge method is more versatile and allows us to specify columns beside the index to join on for both dataframes."
   ]
  },
  {
   "cell_type": "markdown",
   "id": "e3ee34ff",
   "metadata": {},
   "source": [
    "---"
   ]
  },
  {
   "cell_type": "code",
   "execution_count": 13,
   "id": "0e3c1d9a",
   "metadata": {},
   "outputs": [],
   "source": [
    "df1 = pd.DataFrame(data=[1,2,3,4,5,6,7,8,9,10],columns=['c1'])\n",
    "df2 = 10*df1"
   ]
  },
  {
   "cell_type": "code",
   "execution_count": 23,
   "id": "0cdc3847",
   "metadata": {},
   "outputs": [
    {
     "ename": "TypeError",
     "evalue": "'list' object is not callable",
     "output_type": "error",
     "traceback": [
      "\u001b[1;31m---------------------------------------------------------------------------\u001b[0m",
      "\u001b[1;31mTypeError\u001b[0m                                 Traceback (most recent call last)",
      "Cell \u001b[1;32mIn[23], line 1\u001b[0m\n\u001b[1;32m----> 1\u001b[0m \u001b[43mdf2\u001b[49m\u001b[38;5;241;43m.\u001b[39;49m\u001b[43mrename\u001b[49m\u001b[43m(\u001b[49m\u001b[43mcolumns\u001b[49m\u001b[38;5;241;43m=\u001b[39;49m\u001b[43m[\u001b[49m\u001b[38;5;124;43m'\u001b[39;49m\u001b[38;5;124;43mc1\u001b[39;49m\u001b[38;5;124;43m'\u001b[39;49m\u001b[43m]\u001b[49m\u001b[43m)\u001b[49m\n",
      "File \u001b[1;32m~\\AppData\\Local\\Programs\\Python\\Python312\\Lib\\site-packages\\pandas\\core\\frame.py:5518\u001b[0m, in \u001b[0;36mDataFrame.rename\u001b[1;34m(self, mapper, index, columns, axis, copy, inplace, level, errors)\u001b[0m\n\u001b[0;32m   5399\u001b[0m \u001b[38;5;28;01mdef\u001b[39;00m \u001b[38;5;21mrename\u001b[39m(\n\u001b[0;32m   5400\u001b[0m     \u001b[38;5;28mself\u001b[39m,\n\u001b[0;32m   5401\u001b[0m     mapper: Renamer \u001b[38;5;241m|\u001b[39m \u001b[38;5;28;01mNone\u001b[39;00m \u001b[38;5;241m=\u001b[39m \u001b[38;5;28;01mNone\u001b[39;00m,\n\u001b[1;32m   (...)\u001b[0m\n\u001b[0;32m   5409\u001b[0m     errors: IgnoreRaise \u001b[38;5;241m=\u001b[39m \u001b[38;5;124m\"\u001b[39m\u001b[38;5;124mignore\u001b[39m\u001b[38;5;124m\"\u001b[39m,\n\u001b[0;32m   5410\u001b[0m ) \u001b[38;5;241m-\u001b[39m\u001b[38;5;241m>\u001b[39m DataFrame \u001b[38;5;241m|\u001b[39m \u001b[38;5;28;01mNone\u001b[39;00m:\n\u001b[0;32m   5411\u001b[0m \u001b[38;5;250m    \u001b[39m\u001b[38;5;124;03m\"\"\"\u001b[39;00m\n\u001b[0;32m   5412\u001b[0m \u001b[38;5;124;03m    Rename columns or index labels.\u001b[39;00m\n\u001b[0;32m   5413\u001b[0m \n\u001b[1;32m   (...)\u001b[0m\n\u001b[0;32m   5516\u001b[0m \u001b[38;5;124;03m    4  3  6\u001b[39;00m\n\u001b[0;32m   5517\u001b[0m \u001b[38;5;124;03m    \"\"\"\u001b[39;00m\n\u001b[1;32m-> 5518\u001b[0m     \u001b[38;5;28;01mreturn\u001b[39;00m \u001b[38;5;28;43msuper\u001b[39;49m\u001b[43m(\u001b[49m\u001b[43m)\u001b[49m\u001b[38;5;241;43m.\u001b[39;49m\u001b[43m_rename\u001b[49m\u001b[43m(\u001b[49m\n\u001b[0;32m   5519\u001b[0m \u001b[43m        \u001b[49m\u001b[43mmapper\u001b[49m\u001b[38;5;241;43m=\u001b[39;49m\u001b[43mmapper\u001b[49m\u001b[43m,\u001b[49m\n\u001b[0;32m   5520\u001b[0m \u001b[43m        \u001b[49m\u001b[43mindex\u001b[49m\u001b[38;5;241;43m=\u001b[39;49m\u001b[43mindex\u001b[49m\u001b[43m,\u001b[49m\n\u001b[0;32m   5521\u001b[0m \u001b[43m        \u001b[49m\u001b[43mcolumns\u001b[49m\u001b[38;5;241;43m=\u001b[39;49m\u001b[43mcolumns\u001b[49m\u001b[43m,\u001b[49m\n\u001b[0;32m   5522\u001b[0m \u001b[43m        \u001b[49m\u001b[43maxis\u001b[49m\u001b[38;5;241;43m=\u001b[39;49m\u001b[43maxis\u001b[49m\u001b[43m,\u001b[49m\n\u001b[0;32m   5523\u001b[0m \u001b[43m        \u001b[49m\u001b[43mcopy\u001b[49m\u001b[38;5;241;43m=\u001b[39;49m\u001b[43mcopy\u001b[49m\u001b[43m,\u001b[49m\n\u001b[0;32m   5524\u001b[0m \u001b[43m        \u001b[49m\u001b[43minplace\u001b[49m\u001b[38;5;241;43m=\u001b[39;49m\u001b[43minplace\u001b[49m\u001b[43m,\u001b[49m\n\u001b[0;32m   5525\u001b[0m \u001b[43m        \u001b[49m\u001b[43mlevel\u001b[49m\u001b[38;5;241;43m=\u001b[39;49m\u001b[43mlevel\u001b[49m\u001b[43m,\u001b[49m\n\u001b[0;32m   5526\u001b[0m \u001b[43m        \u001b[49m\u001b[43merrors\u001b[49m\u001b[38;5;241;43m=\u001b[39;49m\u001b[43merrors\u001b[49m\u001b[43m,\u001b[49m\n\u001b[0;32m   5527\u001b[0m \u001b[43m    \u001b[49m\u001b[43m)\u001b[49m\n",
      "File \u001b[1;32m~\\AppData\\Local\\Programs\\Python\\Python312\\Lib\\site-packages\\pandas\\core\\generic.py:1086\u001b[0m, in \u001b[0;36mNDFrame._rename\u001b[1;34m(self, mapper, index, columns, axis, copy, inplace, level, errors)\u001b[0m\n\u001b[0;32m   1079\u001b[0m         missing_labels \u001b[38;5;241m=\u001b[39m [\n\u001b[0;32m   1080\u001b[0m             label\n\u001b[0;32m   1081\u001b[0m             \u001b[38;5;28;01mfor\u001b[39;00m index, label \u001b[38;5;129;01min\u001b[39;00m \u001b[38;5;28menumerate\u001b[39m(replacements)\n\u001b[0;32m   1082\u001b[0m             \u001b[38;5;28;01mif\u001b[39;00m indexer[index] \u001b[38;5;241m==\u001b[39m \u001b[38;5;241m-\u001b[39m\u001b[38;5;241m1\u001b[39m\n\u001b[0;32m   1083\u001b[0m         ]\n\u001b[0;32m   1084\u001b[0m         \u001b[38;5;28;01mraise\u001b[39;00m \u001b[38;5;167;01mKeyError\u001b[39;00m(\u001b[38;5;124mf\u001b[39m\u001b[38;5;124m\"\u001b[39m\u001b[38;5;132;01m{\u001b[39;00mmissing_labels\u001b[38;5;132;01m}\u001b[39;00m\u001b[38;5;124m not found in axis\u001b[39m\u001b[38;5;124m\"\u001b[39m)\n\u001b[1;32m-> 1086\u001b[0m new_index \u001b[38;5;241m=\u001b[39m \u001b[43max\u001b[49m\u001b[38;5;241;43m.\u001b[39;49m\u001b[43m_transform_index\u001b[49m\u001b[43m(\u001b[49m\u001b[43mf\u001b[49m\u001b[43m,\u001b[49m\u001b[43m \u001b[49m\u001b[43mlevel\u001b[49m\u001b[38;5;241;43m=\u001b[39;49m\u001b[43mlevel\u001b[49m\u001b[43m)\u001b[49m\n\u001b[0;32m   1087\u001b[0m result\u001b[38;5;241m.\u001b[39m_set_axis_nocheck(new_index, axis\u001b[38;5;241m=\u001b[39maxis_no, inplace\u001b[38;5;241m=\u001b[39m\u001b[38;5;28;01mTrue\u001b[39;00m, copy\u001b[38;5;241m=\u001b[39m\u001b[38;5;28;01mFalse\u001b[39;00m)\n\u001b[0;32m   1088\u001b[0m result\u001b[38;5;241m.\u001b[39m_clear_item_cache()\n",
      "File \u001b[1;32m~\\AppData\\Local\\Programs\\Python\\Python312\\Lib\\site-packages\\pandas\\core\\indexes\\base.py:6465\u001b[0m, in \u001b[0;36mIndex._transform_index\u001b[1;34m(self, func, level)\u001b[0m\n\u001b[0;32m   6463\u001b[0m     \u001b[38;5;28;01mreturn\u001b[39;00m \u001b[38;5;28mtype\u001b[39m(\u001b[38;5;28mself\u001b[39m)\u001b[38;5;241m.\u001b[39mfrom_arrays(values)\n\u001b[0;32m   6464\u001b[0m \u001b[38;5;28;01melse\u001b[39;00m:\n\u001b[1;32m-> 6465\u001b[0m     items \u001b[38;5;241m=\u001b[39m [\u001b[43mfunc\u001b[49m\u001b[43m(\u001b[49m\u001b[43mx\u001b[49m\u001b[43m)\u001b[49m \u001b[38;5;28;01mfor\u001b[39;00m x \u001b[38;5;129;01min\u001b[39;00m \u001b[38;5;28mself\u001b[39m]\n\u001b[0;32m   6466\u001b[0m     \u001b[38;5;28;01mreturn\u001b[39;00m Index(items, name\u001b[38;5;241m=\u001b[39m\u001b[38;5;28mself\u001b[39m\u001b[38;5;241m.\u001b[39mname, tupleize_cols\u001b[38;5;241m=\u001b[39m\u001b[38;5;28;01mFalse\u001b[39;00m)\n",
      "\u001b[1;31mTypeError\u001b[0m: 'list' object is not callable"
     ]
    }
   ],
   "source": [
    "df2.rename(columns=['c2'])"
   ]
  },
  {
   "cell_type": "code",
   "execution_count": null,
   "id": "64c1dfd3",
   "metadata": {},
   "outputs": [],
   "source": []
  }
 ],
 "metadata": {
  "kernelspec": {
   "display_name": "Python 3 (ipykernel)",
   "language": "python",
   "name": "python3"
  },
  "language_info": {
   "codemirror_mode": {
    "name": "ipython",
    "version": 3
   },
   "file_extension": ".py",
   "mimetype": "text/x-python",
   "name": "python",
   "nbconvert_exporter": "python",
   "pygments_lexer": "ipython3",
   "version": "3.12.1"
  }
 },
 "nbformat": 4,
 "nbformat_minor": 5
}
