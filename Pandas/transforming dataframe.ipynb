{
 "cells": [
  {
   "cell_type": "code",
   "execution_count": 1,
   "id": "4919abe3",
   "metadata": {},
   "outputs": [],
   "source": [
    "import pandas as pd"
   ]
  },
  {
   "cell_type": "markdown",
   "id": "12486558",
   "metadata": {},
   "source": [
    "# Exploring a DataFrame\n",
    "1. `head()`\n",
    "2. `info()`\n",
    "3. `.shape`\n",
    "4. `.describe()`\n",
    "5. `.values`\n",
    "6. `.columns`\n",
    "7. `.index`"
   ]
  },
  {
   "cell_type": "markdown",
   "id": "f8a089f6-d9b3-4489-b8f0-9010801da6ec",
   "metadata": {},
   "source": [
    "1. `shape` gives us tuple containing `(no.of rows, no.of columns)`\n",
    "2. `values` return array of particular column or row\n",
    "3. `index` returns start, stop and step range used in dataframe"
   ]
  },
  {
   "cell_type": "markdown",
   "id": "9a09346a",
   "metadata": {},
   "source": [
    "### Question\n",
    "1. Why `shape` , `columns` and `index` has no small brackets, and other have brackets?"
   ]
  },
  {
   "cell_type": "markdown",
   "id": "31414622",
   "metadata": {},
   "source": [
    "# Sorting\n",
    "1. `.sort_values('col_name')` ==> Sorting\n",
    "2. `.sort_values('col_name',ascending=False)` ==>Descending sorting\n",
    "3. `.sort_values(['col1_name','col2_name'])` ==> soritng by multiple variables\n",
    "4. `.sort_values([\"col1\",\"col2\"], ascending=[True, False])` ==> Sorting by multiple variable"
   ]
  },
  {
   "cell_type": "markdown",
   "id": "73694d57",
   "metadata": {},
   "source": [
    "# Subsetting"
   ]
  },
  {
   "cell_type": "markdown",
   "id": "d0ebb172",
   "metadata": {},
   "source": [
    "### What is subsetting?\n",
    "Ans: one that makes up part of another setting."
   ]
  },
  {
   "cell_type": "markdown",
   "id": "5b089ce9",
   "metadata": {},
   "source": [
    "\n",
    "1. `df['col_name']`  ==> Subsetting columns\n",
    "2. `df[['col1_name','col2_name']]` ==> subsetting multiple columns\n",
    "3. `df['col_name'] > 50` ==> Subsetting rows using value\n",
    "4. `df[df['col_name'] > 50]` ==> Subsetting rows\n",
    "5. `df[df['col_name'] == 'text']` ==> subsetting based on text data\n",
    "6. `df[df['date_col'] < \"date\"]` ==> Subsetting based on dates\n",
    "7. Special one: Subsetting based on multiple conditions\n",
    "8. `df['col_name'].isin([\"Black\",\"Brown\"])` ==> returns boolean subsetting using `.isin()`"
   ]
  },
  {
   "cell_type": "markdown",
   "id": "3ca0b4cd",
   "metadata": {},
   "source": [
    "7. Subsetting based on multiple conditions\n",
    "```Python\n",
    "is_lab = dogs[\"breed\"] == \"Labrador\"\n",
    "is_brown = dogs[\"color\"] == \"Brown\"\n",
    "dogs[is_lab & is_brown]\n",
    "```"
   ]
  },
  {
   "cell_type": "markdown",
   "id": "fb0739fc",
   "metadata": {},
   "source": [
    "# New Columns creation in Pandas"
   ]
  },
  {
   "cell_type": "markdown",
   "id": "da1c9aee",
   "metadata": {},
   "source": [
    "1. `df['new_col_name'] = df['existing_col_name'] / 100`\n",
    "2. `df['new_col_name'] = df['existing_col_name1'] / df['existing_col_name2'] ** 12`\n",
    "3. Multiple manipulations"
   ]
  },
  {
   "cell_type": "markdown",
   "id": "18d90ce9",
   "metadata": {},
   "source": [
    "3. Multiple manipulations\n",
    "```Python\n",
    "bmi_lt_100 = dogs[dogs[\"bmi\"] < 100]\n",
    "bmi_lt_100_height = bmi_lt_100.sort_values(\"height_cm\", ascending=False)\n",
    "bmi_lt_100_height[[\"name\", \"height_cm\", \"bmi\"]]\n",
    "```"
   ]
  },
  {
   "cell_type": "code",
   "execution_count": null,
   "id": "05e41b79",
   "metadata": {},
   "outputs": [],
   "source": []
  }
 ],
 "metadata": {
  "kernelspec": {
   "display_name": "Python 3 (ipykernel)",
   "language": "python",
   "name": "python3"
  },
  "language_info": {
   "codemirror_mode": {
    "name": "ipython",
    "version": 3
   },
   "file_extension": ".py",
   "mimetype": "text/x-python",
   "name": "python",
   "nbconvert_exporter": "python",
   "pygments_lexer": "ipython3",
   "version": "3.12.1"
  }
 },
 "nbformat": 4,
 "nbformat_minor": 5
}
