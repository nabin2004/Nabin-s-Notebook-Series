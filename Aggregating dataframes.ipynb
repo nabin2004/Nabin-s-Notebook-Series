{
 "cells": [
  {
   "cell_type": "code",
   "execution_count": 1,
   "id": "bb52cee4",
   "metadata": {},
   "outputs": [],
   "source": [
    "import pandas as pd"
   ]
  },
  {
   "cell_type": "markdown",
   "id": "d7d057bc",
   "metadata": {},
   "source": [
    "# Summaring numerical data\n",
    "1. `.median()`\n",
    "2. `.mode()`\n",
    "3. `.var()`\n",
    "4. `.std()`\n",
    "5. `.sum()`\n",
    "6. `.quantile()`"
   ]
  },
  {
   "cell_type": "markdown",
   "id": "8d10bd6d",
   "metadata": {},
   "source": [
    "Question: I dont know quantile, var and std"
   ]
  },
  {
   "cell_type": "markdown",
   "id": "826ea1dd",
   "metadata": {},
   "source": [
    "# Summaring dates"
   ]
  },
  {
   "cell_type": "markdown",
   "id": "f85975f6",
   "metadata": {},
   "source": [
    "1. `df['date_column'].min()`\n",
    "2. `df['date_column'].max()`"
   ]
  },
  {
   "cell_type": "markdown",
   "id": "191f62f3",
   "metadata": {},
   "source": [
    "### What does `.agg()` method does and what is aggregation?\n",
    "Ans: meaning of aggregate = a whole formed by combining several separate elements. \\\n",
    "Agg method does: Aggregate using one or more operations over the specified axis."
   ]
  },
  {
   "cell_type": "markdown",
   "id": "a68448a9",
   "metadata": {},
   "source": [
    "### The `.agg()` method"
   ]
  },
  {
   "cell_type": "markdown",
   "id": "d86eac16",
   "metadata": {},
   "source": [
    "```Python\n",
    "def pct30(column):\n",
    "    return column.quantile(0.3)\n",
    "\n",
    "df['col_name'].agg(pct30)\n",
    "```"
   ]
  },
  {
   "cell_type": "markdown",
   "id": "d03dcf7f",
   "metadata": {},
   "source": [
    "### Multiple Summaries\n",
    "```Python\n",
    "df['col_name'].agg([pct30,pct40])\n",
    "```"
   ]
  },
  {
   "cell_type": "markdown",
   "id": "562c8f57",
   "metadata": {},
   "source": [
    "# Cumulative sum"
   ]
  },
  {
   "cell_type": "markdown",
   "id": "c05cfac1",
   "metadata": {},
   "source": [
    "### Where is cumulative sum used?\n",
    "Ans: It is used to show the summation of data as it grows with time (updated every time a new number is added to the sequence).\n",
    "\n",
    "```Python\n",
    "df['col_name'].cumsum()\n",
    "```"
   ]
  },
  {
   "cell_type": "markdown",
   "id": "8bf123e7",
   "metadata": {},
   "source": [
    "# Cumulative statistics\n",
    "1. `.cummax()`\n",
    "2. `.cummin()`\n",
    "3. `.cumprod()`"
   ]
  },
  {
   "cell_type": "markdown",
   "id": "e8ca79a8",
   "metadata": {},
   "source": [
    "# Counting"
   ]
  },
  {
   "cell_type": "markdown",
   "id": "6b7a8b76",
   "metadata": {},
   "source": [
    "#### Dropping duplicate names\n",
    "1. `df.drop(subset='col1')`\n",
    "#### Dropping duplicate pairs\n",
    "2. `df.drop_duplicates(subsets=['col1','col2'])`"
   ]
  },
  {
   "cell_type": "markdown",
   "id": "226a26fd",
   "metadata": {},
   "source": [
    "# value_counts()\n",
    "\n",
    "1. `df['col'].value_counts()`\n",
    "\n",
    "2. `df['col'].value_counts(sort=True)`\n",
    "\n",
    "3. `df['col'].value_counts(normalize=True)`"
   ]
  },
  {
   "cell_type": "markdown",
   "id": "6da88280",
   "metadata": {},
   "source": [
    "# `.groupby()`\n",
    "A groupby operation involves some combination of splitting the object, applying a function, and combining the results. This can be used to group large amounts of data and compute operations on these groups."
   ]
  },
  {
   "cell_type": "markdown",
   "id": "49370019",
   "metadata": {},
   "source": [
    "Imagine, there is a column with some categorical values and all you want is to find mean of all available categorical value. Instead of doing this:\n",
    "\n",
    "```Python\n",
    "dogs[dogs[\"color\"] == \"Black\"][\"weight_kg\"].mean()\n",
    "dogs[dogs[\"color\"] == \"Brown\"][\"weight_kg\"].mean()\n",
    "dogs[dogs[\"color\"] == \"White\"][\"weight_kg\"].mean()\n",
    "dogs[dogs[\"color\"] == \"Gray\"][\"weight_kg\"].mean()\n",
    "dogs[dogs[\"color\"] == \"Tan\"][\"weight_kg\"].mean()\n",
    "\n",
    "```\n",
    "\n",
    "Instead of doing this what you do is this\n",
    "```Python\n",
    "dogs.groupby(\"color\")[\"weight_kg\"].mean()\n",
    "```\n",
    "and BOOOM you got same out and in better format easy to understand.\n"
   ]
  },
  {
   "cell_type": "markdown",
   "id": "79e13c74",
   "metadata": {},
   "source": [
    "# Multiple grouped summaries\n",
    "```Python\n",
    "dogs.groupby(\"color\")[\"weight_kg\"].agg([min, max, sum])\n",
    "```\n",
    "\n",
    "# Grouping by multiple variables\n",
    "```Python\n",
    "df.groupby([\"color\",\"breed\"])['weight_kg'].mean()\n",
    "```\n",
    "\n",
    "# Many groups, many summaries\n",
    "```Python\n",
    "dogs.groupby([\"color\", \"breed\"])[[\"weight_kg\", \"height_cm\"]].mean()\n",
    "```"
   ]
  },
  {
   "cell_type": "markdown",
   "id": "d8a7c392",
   "metadata": {},
   "source": [
    "# Pivot tables\n",
    "What is Pivot tables?\\\n",
    "A PivotTable is an interactive way to quickly summarize large amounts of data.  \n"
   ]
  },
  {
   "cell_type": "markdown",
   "id": "3187c61a",
   "metadata": {},
   "source": [
    "```Python\n",
    "df.pivot_table(values='col_name',\n",
    "              index='')\n",
    "``` \n",
    "remaininnnnng"
   ]
  },
  {
   "cell_type": "markdown",
   "id": "4c3c7d22",
   "metadata": {},
   "source": [
    "# NEED to PRACTISE GROUPBY AND AGG and PIVOT TABLE"
   ]
  },
  {
   "cell_type": "code",
   "execution_count": null,
   "id": "83b656c2",
   "metadata": {},
   "outputs": [],
   "source": []
  }
 ],
 "metadata": {
  "kernelspec": {
   "display_name": "Python 3 (ipykernel)",
   "language": "python",
   "name": "python3"
  },
  "language_info": {
   "codemirror_mode": {
    "name": "ipython",
    "version": 3
   },
   "file_extension": ".py",
   "mimetype": "text/x-python",
   "name": "python",
   "nbconvert_exporter": "python",
   "pygments_lexer": "ipython3",
   "version": "3.12.1"
  }
 },
 "nbformat": 4,
 "nbformat_minor": 5
}
